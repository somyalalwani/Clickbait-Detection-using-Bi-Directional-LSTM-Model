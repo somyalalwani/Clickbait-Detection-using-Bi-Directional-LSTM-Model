{
  "nbformat": 4,
  "nbformat_minor": 0,
  "metadata": {
    "colab": {
      "name": "SMAI_PROJECT_WITHOUT_LSTM.ipynb",
      "provenance": [],
      "collapsed_sections": [],
      "toc_visible": true
    },
    "kernelspec": {
      "display_name": "Python 3",
      "name": "python3"
    },
    "language_info": {
      "name": "python"
    }
  },
  "cells": [
    {
      "cell_type": "code",
      "metadata": {
        "colab": {
          "base_uri": "https://localhost:8080/"
        },
        "id": "ClOjE9hMxRbX",
        "outputId": "b2ed8db7-59a6-4199-b948-4fb2d9623ce1"
      },
      "source": [
        "import pandas as pd\n",
        "from sklearn.preprocessing import LabelEncoder  #for label encoding\n",
        "from sklearn.metrics.cluster import homogeneity_score\n",
        "from sklearn.feature_extraction.text import CountVectorizer\n",
        "import numpy as np\n",
        "from numpy.linalg import norm\n",
        "\n",
        "\n",
        "import nltk\n",
        "from nltk.corpus import stopwords\n",
        "nltk.download('stopwords')\n",
        "from nltk.tokenize import word_tokenize\n",
        "nltk.download('punkt')\n",
        "from nltk.stem import WordNetLemmatizer\n",
        "nltk.download('wordnet')\n",
        "\n",
        "from tensorflow.keras.layers import LSTM, MaxPool1D, Dropout, Dense, GlobalMaxPooling1D, Embedding, Activation\n",
        "from keras.models import Sequential\n",
        "from keras.layers import LSTM\n",
        "from keras.layers import Dense\n",
        "from keras.layers import TimeDistributed\n",
        "from keras.layers import Bidirectional\n",
        "import tensorflow as tf\n",
        "\n",
        "from tensorflow.keras import layers\n",
        "from tensorflow.keras import Input\n",
        "from tensorflow.keras.layers import concatenate\n",
        "from keras.models import Model\n",
        "from keras.layers import Input, Flatten, Dense, Dropout, Lambda\n",
        "from keras.optimizers import RMSprop\n",
        "from keras import backend as K\n",
        "\n",
        "from sklearn.externals import joblib\n",
        "from google.colab import files\n",
        "\n"
      ],
      "execution_count": null,
      "outputs": [
        {
          "output_type": "stream",
          "text": [
            "[nltk_data] Downloading package stopwords to /root/nltk_data...\n",
            "[nltk_data]   Package stopwords is already up-to-date!\n",
            "[nltk_data] Downloading package punkt to /root/nltk_data...\n",
            "[nltk_data]   Package punkt is already up-to-date!\n",
            "[nltk_data] Downloading package wordnet to /root/nltk_data...\n",
            "[nltk_data]   Package wordnet is already up-to-date!\n"
          ],
          "name": "stdout"
        }
      ]
    },
    {
      "cell_type": "markdown",
      "metadata": {
        "id": "iF9xVMLPxTgM"
      },
      "source": [
        "\n",
        "\n",
        "## OPENING TRAIN.CSV & VALID.CSV\n"
      ]
    },
    {
      "cell_type": "code",
      "metadata": {
        "colab": {
          "base_uri": "https://localhost:8080/"
        },
        "id": "jIrNErkwxYmw",
        "outputId": "11c827d6-9310-400d-8f6f-296c69a2ae06"
      },
      "source": [
        "from google.colab import drive\n",
        "drive.mount('/content/drive')\n",
        "\n",
        "def open_filter_data(filename):\n",
        "    \n",
        "    data = pd.read_csv(\"drive/MyDrive/SMAI_PROJECT_CLICKBAIT/\"+filename+\".csv\", na_values='?', header=None,) \n",
        "    #data = pd.read_csv(\"clickbait-news-detection/\"+filename+\".csv\", na_values='?', header=None,) \n",
        "    data.head()\n",
        "    #print(\"data.shape before:\",end=\" \")\n",
        "    #print(data.shape)\n",
        "    \n",
        "    df=data.dropna(axis = 0, how ='any')\n",
        "    #print(\"data.shape after:\",end=\" \")\n",
        "    #print(df.shape)\n",
        "    df=df.reset_index(drop=True)\n",
        "    return df\n",
        "    \n",
        "\n",
        "df_train=open_filter_data(\"train\")\n",
        "#df_train.describe\n",
        "\n",
        "#print(\"******\")\n",
        "\n",
        "df_valid=open_filter_data(\"valid\")\n",
        "#df_valid.describe\n",
        "\n",
        "df_test=open_filter_data(\"test\")"
      ],
      "execution_count": null,
      "outputs": [
        {
          "output_type": "stream",
          "text": [
            "Mounted at /content/drive\n"
          ],
          "name": "stdout"
        }
      ]
    },
    {
      "cell_type": "markdown",
      "metadata": {
        "id": "VyvJNOeHxb1D"
      },
      "source": [
        "## PREPROCESSING OF TRAINING DATA & VALIDATION DATA"
      ]
    },
    {
      "cell_type": "code",
      "metadata": {
        "id": "pUPwOBoVxe2p"
      },
      "source": [
        "def extract_data(df):\n",
        "    a=df.iloc[1:,2]\n",
        "    b=df.iloc[1:,1]\n",
        "    df.iloc[:,3] = df.iloc[:,3].str.replace('news','1')\n",
        "    df.iloc[:,3] = df.iloc[:,3].str.replace('clickbait','0')\n",
        "    y_actual=df.iloc[1:,3]\n",
        "    return a,b,y_actual\n",
        "\n",
        "def extract_dd(df):\n",
        "    a=df.iloc[1:,2]\n",
        "    b=df.iloc[1:,1]\n",
        "    return a,b\n",
        "    \n",
        "\n",
        "a_train,b_train,y_actual=extract_data(df_train)\n",
        "a_valid,b_valid,y_valid=extract_data(df_valid)\n",
        "a_test,b_test=extract_dd(df_test)\n",
        "\n",
        "# print(a)\n",
        "# print(\"**********\")\n",
        "# print(b)\n",
        "# print(\"**********\")\n",
        "# print(y_actual)\n",
        "\n",
        "# print(\"#################\")\n",
        "\n",
        "# print(a_valid)\n",
        "# print(\"**********\")\n",
        "# print(b_valid)\n",
        "# print(\"**********\")\n",
        "# print(y_valid)\n"
      ],
      "execution_count": null,
      "outputs": []
    },
    {
      "cell_type": "markdown",
      "metadata": {
        "id": "Pel0WQV3xhcn"
      },
      "source": [
        "\n",
        "1. Converting all sentences to lower case \n",
        "2. Writing Abbreviations in full form\n",
        "3. Removing punctuations (Normalisation)\n",
        "4. Removing Stop words (Normalisation)\n",
        "5. Lemmatizing the data\n"
      ]
    },
    {
      "cell_type": "code",
      "metadata": {
        "id": "cdQjXuXrxkJN"
      },
      "source": [
        "contractions = {\n",
        "\"ain't\": \"am not\", \"aren't\": \"are not\", \"can't\": \"cannot\", \"can't've\": \"cannot have\",\n",
        "\"'cause\": \"because\", \"could've\": \"could have\", \"couldn't\": \"could not\", \"couldn't've\": \"could not have\",\n",
        "\"didn't\": \"did not\", \"doesn't\": \"does not\", \"don't\": \"do not\", \"hadn't\": \"had not\",\n",
        "\"hadn't've\": \"had not have\", \"hasn't\": \"has not\", \"haven't\": \"have not\", \"he'd\": \"he would\",\n",
        "\"he'd've\": \"he would have\", \"he'll\": \"he will\", \"he'll've\": \"he will have\", \"he's\": \"he is\",\n",
        "\"how'd\": \"how did\", \"how'd'y\": \"how do you\", \"how'll\": \"how will\", \"how's\": \"how is\",\n",
        "\"i'd\": \"I would\", \"i'd've\": \"I would have\", \"i'll\": \"I will\", \"i'll've\": \"I will have\",\n",
        "\"i'm\": \"I am\", \"i've\": \"I have\", \"isn't\": \"is not\", \"it'd\": \"it would\",\n",
        "\"it'd've\": \"it would have\", \"it'll\": \"it will\", \"it'll've\": \"it will have\", \"it's\": \"it is\",\n",
        "\"let's\": \"let us\", \"ma'am\": \"madam\", \"mayn't\": \"may not\", \"might've\": \"might have\",\n",
        "\"mightn't\": \"might not\", \"mightn't've\": \"might not have\", \"must've\": \"must have\", \"mustn't\": \"must not\",\n",
        "\"mustn't've\": \"must not have\", \"needn't\": \"need not\", \"needn't've\": \"need not have\", \"o'clock\": \"of the clock\",\n",
        "\"oughtn't\": \"ought not\", \"oughtn't've\": \"ought not have\", \"shan't\": \"shall not\", \"sha'n't\": \"shall not\",\n",
        "\"shan't've\": \"shall not have\", \"she'd\": \"she would\", \"she'd've\": \"she would have\", \"she'll\": \"she will\",\n",
        "\"she'll've\": \"she will have\", \"she's\": \"she is\", \"should've\": \"should have\", \"shouldn't\": \"should not\",\n",
        "\"shouldn't've\": \"should not have\", \"so've\": \"so have\", \"so's\": \"so is\", \"that'd\": \"that had\",\n",
        "\"that'd've\": \"that would have\", \"that's\": \"that is\", \"there'd\": \"there would\", \"there'd've\": \"there would have\",\n",
        "\"there's\": \"there is\", \"they'd\": \"they would\", \"they'd've\": \"they would have\", \"they'll\": \"they will\",\n",
        "\"they'll've\": \"they will have\", \"they're\": \"they are\", \"they've\": \"they have\", \"to've\": \"to have\",\n",
        "\"wasn't\": \"was not\", \"we'd\": \"we would\", \"we'd've\": \"we would have\", \"we'll\": \"we will\",\n",
        "\"we'll've\": \"we will have\", \"we're\": \"we are\", \"we've\": \"we have\", \"weren't\": \"were not\",\n",
        "\"what'll\": \"what will\", \"what'll've\": \"what will have\", \"what're\": \"what are\", \"what's\": \"what is\",\n",
        "\"what've\": \"what have\", \"when's\": \"when is\", \"when've\": \"when have\", \"where'd\": \"where did\",\n",
        "\"where's\": \"where is\", \"where've\": \"where have\", \"who'll\": \"who will\", \"who'll've\": \"who will have\",\n",
        "\"who's\": \"who is\", \"who've\": \"who have\", \"why's\": \"why has\", \"why've\": \"why have\",\n",
        "\"will've\": \"will have\", \"won't\": \"will not\", \"won't've\": \"will not have\", \"would've\": \"would have\",\n",
        "\"wouldn't\": \"would not\", \"wouldn't've\": \"would not have\", \"y'all\": \"you all\", \"y'all'd\": \"you all would\",\n",
        "\"y'all'd've\": \"you all would have\", \"y'all're\": \"you all are\", \"y'all've\": \"you all have\", \"you'd\": \"you would\",\n",
        "\"you'd've\": \"you would have\", \"you'll\": \"you will\", \"you'll've\": \"you will have\", \"you're\": \"you are\", \"you've\": \"you have\"\n",
        "}\n",
        "\n",
        "\n",
        "def pre_process_data(a,b):\n",
        "    final_lines=[]\n",
        "    final_headings=[]\n",
        "\n",
        "\n",
        "    for line in range(1,int(0.25*len(a))):\n",
        "      #print(a[line])\n",
        "      #print(type(a[line]))\n",
        "      #print(\"*********\")\n",
        "      a[line]=(a[line]).lower()     #Converting all sentences to lower case \n",
        "      for word in a[line].split():\n",
        "        if word in contractions:\n",
        "            a[line]=a[line].replace(word, contractions[word.lower()])  #Writing Abbreviations in full form\n",
        "      tokens = word_tokenize(a[line].lower()) \n",
        "      words = [word for word in tokens if word.isalpha()]    #Removing punctuations\n",
        "      final_word = [w for w in words if not w in stop_words]     #Removing Stop words \n",
        "      final_words = [lemmatizer.lemmatize(w) for w in final_word]     #Lemmatizing words\n",
        "      ans=\"\"\n",
        "      for x in final_words:\n",
        "        ans= ans+ \" \"+x\n",
        "      final_lines.append(ans.lstrip())\n",
        "      b[line]=(b[line]).lower()     #Converting all sentences to lower case \n",
        "      for word in b[line].split():\n",
        "        if word in contractions:\n",
        "            b[line]=b[line].replace(word, contractions[word.lower()])  #Writing Abbreviations in full form\n",
        "      tokens = word_tokenize(b[line].lower()) \n",
        "      words = [word for word in tokens if word.isalpha()]    #Removing punctuations\n",
        "      final_head = [w for w in words if not w in stop_words]     #Removing Stop words \n",
        "      final_heads = [lemmatizer.lemmatize(w) for w in final_head]     #Lemmatizing words\n",
        "      ans=\"\"\n",
        "      for x in final_heads:\n",
        "        ans= ans+ \" \"+x\n",
        "      final_headings.append(ans.lstrip())\n",
        "    return final_headings,final_lines\n",
        "\n",
        "\n",
        "def vectorisation(final_lines):    \n",
        "    vectorizer = CountVectorizer()\n",
        "    X = vectorizer.fit_transform(final_lines)\n",
        "    final_word_vector=[]\n",
        "    i=0\n",
        "    while (i<X.shape[0] and i+9000<X.shape[0]):\n",
        "        final_word_vector.extend(X[i:i+9000].toarray())\n",
        "        i+=9000\n",
        "\n",
        "    final_word_vector.extend(X[i:].toarray())\n",
        "    return final_word_vector\n",
        "\n",
        "\n",
        "lemmatizer = WordNetLemmatizer()\n",
        "stop_words = set(stopwords.words('english'))\n",
        "\n"
      ],
      "execution_count": null,
      "outputs": []
    },
    {
      "cell_type": "markdown",
      "metadata": {
        "id": "Nju9VLmScvlD"
      },
      "source": [
        "# pre-process all data"
      ]
    },
    {
      "cell_type": "code",
      "metadata": {
        "id": "mEggNjj9cnQZ"
      },
      "source": [
        "final_headings,final_lines = pre_process_data(a_train,b_train)\n",
        "final_headings_valid,final_body_valid = pre_process_data(a_valid,b_valid)\n",
        "final_headings_test,final_body_test = pre_process_data(a_test,b_test)"
      ],
      "execution_count": null,
      "outputs": []
    },
    {
      "cell_type": "code",
      "metadata": {
        "id": "NSrbq6rtxp3J"
      },
      "source": [
        "# print(len(final_headings),\n",
        "#       len(final_lines),\n",
        "#       len(final_headings_valid),\n",
        "#       len(final_body_valid),\n",
        "#       len(final_headings_test),\n",
        "#       len(final_body_test)\n",
        "# )"
      ],
      "execution_count": null,
      "outputs": []
    },
    {
      "cell_type": "code",
      "metadata": {
        "id": "NFNa9M7YdArl"
      },
      "source": [
        "final_headings.extend(final_lines)\n",
        "final_headings.extend(final_headings_valid)\n",
        "final_headings.extend(final_body_valid)\n",
        "final_headings.extend(final_headings_test)\n",
        "final_headings.extend(final_body_test)"
      ],
      "execution_count": null,
      "outputs": []
    },
    {
      "cell_type": "code",
      "metadata": {
        "id": "kLa9PtZonAdC"
      },
      "source": [
        "del stop_words\n",
        "del lemmatizer\n",
        "del final_lines\n",
        "\n"
      ],
      "execution_count": null,
      "outputs": []
    },
    {
      "cell_type": "code",
      "metadata": {
        "id": "QXHhs80uoL9y"
      },
      "source": [
        "print(len(final_headings))"
      ],
      "execution_count": null,
      "outputs": []
    },
    {
      "cell_type": "code",
      "metadata": {
        "id": "P0OCe3EewZz6"
      },
      "source": [
        "from gensim.models.doc2vec import Doc2Vec, TaggedDocument\n",
        "documents = [TaggedDocument(doc, [i]) for i, doc in enumerate(final_headings)]"
      ],
      "execution_count": null,
      "outputs": []
    },
    {
      "cell_type": "code",
      "metadata": {
        "id": "NI7bB43pum5D"
      },
      "source": [
        "#temp=[\"hi I am Naman Juneja from India\"]\n",
        "#documents = [TaggedDocument(doc, [i]) for i, doc in enumerate(temp)]"
      ],
      "execution_count": null,
      "outputs": []
    },
    {
      "cell_type": "code",
      "metadata": {
        "id": "2aQ_rDDnvLty"
      },
      "source": [
        "#print(documents)"
      ],
      "execution_count": null,
      "outputs": []
    },
    {
      "cell_type": "code",
      "metadata": {
        "id": "zHSLaV6NdMV2"
      },
      "source": [
        "from gensim.test.utils import common_texts\n",
        "from gensim.models.doc2vec import Doc2Vec, TaggedDocument\n",
        "model = Doc2Vec(documents, vector_size=500, window=2, min_count=1, workers=4)"
      ],
      "execution_count": null,
      "outputs": []
    },
    {
      "cell_type": "code",
      "metadata": {
        "colab": {
          "base_uri": "https://localhost:8080/"
        },
        "id": "oV2rYbnww8zO",
        "outputId": "ee74d3c4-befe-4a7f-e305-51ca29eeb90a"
      },
      "source": [
        "print(model.docvecs[10])\n",
        "x=[]\n",
        "for i in range(len(model.docvecs)):\n",
        "  x.append(model.docvecs[i])\n"
      ],
      "execution_count": null,
      "outputs": [
        {
          "output_type": "stream",
          "text": [
            "[-6.59551763e-04  6.03501860e-04  3.52083036e-04 -7.86612072e-05\n",
            "  4.49003157e-04 -5.99634543e-04 -3.77757446e-04 -8.22952832e-04\n",
            "  1.64885045e-04  9.12347226e-04  5.63400856e-04  5.22610964e-04\n",
            "  9.36096534e-04  7.52306951e-04 -2.37418339e-04  6.59546873e-04\n",
            " -9.74758936e-04 -6.41658553e-04 -1.17530355e-04  4.87689103e-04\n",
            "  1.12697831e-04 -9.16111749e-04  7.73918058e-04 -4.86238539e-04\n",
            "  4.40167903e-04  9.09582363e-04 -1.70210944e-04  1.91959276e-04\n",
            " -3.32270458e-04 -2.80366134e-04  4.92163934e-04 -1.83202574e-04\n",
            "  9.01227235e-04 -6.26588706e-04 -5.48770244e-04  1.78484799e-04\n",
            "  4.93132393e-04  9.42949962e-04 -9.25810367e-04  3.94707924e-04\n",
            " -3.54462449e-04  1.01759513e-04  4.17260802e-04 -8.16293003e-04\n",
            " -8.47954885e-04 -5.96403959e-04  3.13672528e-04 -7.72554951e-04\n",
            "  4.19105083e-04  2.53702339e-04  8.35765502e-04 -7.68115511e-04\n",
            " -2.36163527e-04 -2.34607051e-05  7.82218936e-04  8.70700460e-04\n",
            "  1.39000690e-07 -7.63974967e-04  2.99230829e-04 -2.33600396e-04\n",
            "  6.40104045e-05 -4.07426181e-04 -8.19541223e-04  7.58934591e-04\n",
            " -3.29723232e-04 -4.01716214e-04 -8.44989554e-04  8.27122039e-06\n",
            " -4.87568293e-04  9.30952490e-04 -6.98335760e-04  2.94953934e-04\n",
            " -3.41112842e-04  5.08252764e-04  3.44156324e-05 -4.27266204e-04\n",
            "  3.80484154e-04 -5.68967953e-04 -4.85732598e-04  4.58525959e-04\n",
            " -4.04083345e-04  1.84530276e-04  4.41522570e-04  2.59426655e-04\n",
            " -3.55660100e-04  4.55699919e-04 -3.20927473e-04 -2.16944929e-04\n",
            "  6.83841994e-04  1.47244486e-04 -7.42241275e-04 -5.52689016e-04\n",
            "  5.97859849e-04 -3.39908176e-04  8.57153907e-04  5.63150388e-04\n",
            " -9.97703988e-04  4.81301140e-05 -7.21285993e-04  4.58857976e-04\n",
            " -1.66766971e-04  3.21270316e-04 -6.41928171e-04  3.90427653e-04\n",
            " -8.80929758e-04  3.30742827e-04  4.97129979e-04  2.86942493e-04\n",
            "  7.43768702e-04  9.24399355e-05  8.70547898e-04 -7.02071586e-04\n",
            " -5.53340127e-04 -8.83165281e-04  3.02133732e-04  3.20748077e-04\n",
            "  8.22989387e-04  5.76316728e-04  7.56288762e-04 -8.76230421e-04\n",
            "  4.18271011e-05 -8.78415478e-04 -1.48501669e-04 -6.98088261e-04\n",
            "  4.08737251e-04 -2.16371322e-04 -8.94086086e-04  2.48348588e-05\n",
            " -4.97357512e-04  2.23768089e-04 -6.55371288e-04  8.17463384e-04\n",
            " -3.44390137e-04  7.11250232e-06  9.69515066e-04 -3.32599564e-04\n",
            "  6.16776699e-04  2.26601609e-04  5.94827812e-04  5.67278301e-04\n",
            " -1.48853738e-04  7.72029045e-04 -2.54223385e-04 -1.65409147e-04\n",
            "  2.21125316e-04  2.80933687e-04  5.36697742e-04 -1.71838838e-04\n",
            " -2.14063170e-04  7.57189526e-04  1.66813479e-04  4.39419469e-04\n",
            " -1.71879452e-04 -8.18996574e-04 -2.83619040e-04  1.26072759e-04\n",
            " -6.61511905e-04 -7.77984504e-04  9.61077531e-05 -4.61659685e-04\n",
            "  6.33421179e-04 -9.89489141e-04  3.75644158e-05  8.56831975e-05\n",
            " -6.43385632e-04 -9.27332847e-04  3.03149252e-04  2.57595588e-04\n",
            "  9.73418937e-04  1.15880299e-04 -6.41865132e-04 -7.79168389e-04\n",
            "  6.78996905e-04  3.57663339e-05 -7.00129312e-04  4.68822662e-04\n",
            " -6.86776941e-04 -2.67372932e-04  6.59899379e-04  5.13922074e-04\n",
            " -1.24231126e-04 -8.93542601e-04 -4.16306255e-04  3.74533527e-04\n",
            " -6.60081278e-04  3.45195062e-04 -9.62134684e-04  6.56523218e-04\n",
            "  6.14572200e-04  2.41162983e-04 -8.12837097e-04 -8.76690228e-06\n",
            " -8.08600744e-05 -3.30758397e-04  8.96666199e-04  9.41796519e-04\n",
            "  1.74756453e-04 -2.44384224e-04  6.74195820e-04  6.35196164e-04\n",
            " -4.15504415e-04  5.31046942e-04  2.13770036e-04 -4.11977322e-04\n",
            " -6.13796117e-04 -7.46802762e-05  7.00769073e-04  2.35560452e-04\n",
            " -3.82195110e-04  7.12068751e-04 -9.89362830e-04  8.04818468e-04\n",
            " -2.19921596e-04  7.58413691e-04  6.59026191e-05 -6.27007976e-04\n",
            " -6.62522740e-04 -6.36468118e-04  2.31054466e-04  3.24165070e-04\n",
            " -1.77173279e-04 -6.01934851e-04 -6.81219331e-04  1.60306416e-04\n",
            " -9.64008097e-04 -7.14994851e-04  9.99822514e-04  4.15919436e-04\n",
            " -4.72558633e-04  4.03828337e-04  5.65451919e-04  3.71286151e-04\n",
            "  1.69424791e-04  3.44713131e-04  9.02869739e-04 -4.76743095e-04\n",
            "  2.40912006e-04  4.70431638e-04  8.56217986e-04  7.94993175e-05\n",
            "  5.55240433e-04  2.52299855e-04 -3.30489391e-04  3.99275392e-04\n",
            "  2.04676995e-04  7.83291762e-04 -3.59943107e-04 -9.77716991e-04\n",
            "  6.81547623e-04  6.20690349e-04  7.03422062e-04  3.99036580e-05\n",
            " -8.35081330e-04  5.53208520e-04 -2.73535872e-04  3.04644811e-04\n",
            " -1.10506830e-04  9.71665548e-04 -3.09416006e-04 -7.63378281e-04\n",
            " -7.08330990e-05  4.76452900e-04 -1.73551089e-04 -1.83393277e-04\n",
            " -2.31622980e-04 -5.42142719e-04 -1.69783059e-04 -5.07998629e-04\n",
            " -4.29378211e-04  1.08774417e-04 -4.95676300e-04  1.65831938e-04\n",
            "  8.89443385e-04  7.11266708e-04 -2.98567349e-04  5.24185598e-05\n",
            " -2.97157821e-04 -2.73157842e-04  5.71940967e-04  2.08265759e-04\n",
            "  8.41067638e-04 -1.63655335e-04  4.15766961e-04 -8.57989769e-04\n",
            "  6.27617876e-04 -7.36938731e-04 -9.41692502e-04 -9.45595966e-04\n",
            " -3.21606669e-04  2.86019465e-04 -5.09112142e-04  4.57782677e-04\n",
            "  3.40906146e-04 -6.34708675e-04 -6.73051050e-04 -5.53633690e-05\n",
            "  8.48723692e-04 -8.56733124e-04  4.06210922e-04 -1.48371197e-04\n",
            " -7.90566031e-04  5.05205011e-04 -4.94163425e-04 -9.98431467e-04\n",
            " -4.99299669e-04 -4.83121490e-04  4.70173109e-06  3.21728556e-04\n",
            "  1.83680706e-04 -8.33471364e-04 -6.19194994e-04 -7.03257683e-04\n",
            " -6.21684769e-04 -1.94416512e-04 -6.38368801e-05 -5.63530775e-04\n",
            " -4.51423257e-04  2.08708971e-05 -6.61098748e-04  5.39278670e-04\n",
            "  6.60779071e-04  1.21914345e-04 -8.00575581e-05 -9.14366683e-04\n",
            " -3.13210272e-04  8.47500865e-04  3.10686475e-04  7.38627568e-05\n",
            " -8.40806111e-04  4.89572412e-04 -2.04017473e-04  4.42100485e-04\n",
            " -8.75323778e-04  8.30485544e-04  3.87516484e-04 -3.26425885e-04\n",
            "  9.25365966e-05  3.77252116e-04 -6.54788528e-05  8.18875269e-04\n",
            "  2.62681831e-04 -7.92300852e-04  2.92525685e-04  1.05688974e-04\n",
            "  7.46754173e-04  3.57749377e-04 -6.47674096e-05 -9.39690915e-04\n",
            "  8.40873399e-04 -2.43097587e-04 -6.60794845e-04 -6.23488799e-04\n",
            "  8.85154528e-04 -8.13799095e-04 -4.49781568e-04  9.95478058e-06\n",
            " -7.40858086e-04  9.67816974e-04  9.61974729e-05  8.46118957e-04\n",
            "  1.07469110e-04 -7.98404042e-04  6.62174309e-04 -4.54127672e-04\n",
            " -8.99139923e-05 -2.88775802e-04  6.75926392e-04  2.22267379e-04\n",
            " -1.75760695e-04 -9.16611170e-04 -1.59128555e-04 -6.36571029e-04\n",
            "  2.14313492e-04  2.13075309e-05  8.50127370e-04  1.77217138e-04\n",
            " -3.23521788e-04  5.90104843e-04  4.49462328e-04 -7.24172511e-04\n",
            "  4.92748513e-04  7.69000733e-04 -8.71356111e-04 -9.62316757e-04\n",
            "  3.49307724e-04 -3.39330669e-04  1.14215509e-04  7.79065304e-04\n",
            " -8.50558514e-04  3.08991875e-04 -9.43441933e-04 -7.70121522e-04\n",
            "  6.10799252e-05  3.88376531e-04  9.86892730e-04  4.35319846e-04\n",
            "  5.32784907e-04 -2.43706047e-04 -6.40373095e-04  8.91995092e-04\n",
            "  8.05261196e-04 -5.92872733e-04  7.59639818e-07  9.87805543e-04\n",
            "  5.36910782e-04 -3.66751745e-04  1.50151300e-05  3.81277605e-05\n",
            "  5.23602357e-04 -5.61385648e-04  7.32612854e-04  3.20032355e-04\n",
            "  9.45572159e-04  1.78800066e-04  2.63594877e-04 -7.36142450e-04\n",
            "  6.28525275e-04  7.15308648e-04  6.94971241e-04 -2.21360926e-04\n",
            " -1.58280163e-04  3.16348043e-04 -7.90414051e-05  6.77431177e-04\n",
            "  5.16242348e-04 -7.10258319e-04  1.10070279e-04  3.15905403e-04\n",
            " -2.45015952e-04 -7.94552208e-04 -6.00510801e-04  2.86859344e-04\n",
            " -6.25696266e-04  7.19042204e-04 -8.30507255e-04 -4.86114004e-04\n",
            " -6.54022326e-04 -7.03440222e-04  5.82014211e-04  3.85675434e-04\n",
            "  1.72144064e-04 -7.84604636e-04  8.08252487e-04 -1.45719023e-04\n",
            " -9.50408983e-04 -5.06239943e-04 -8.19758861e-04 -8.46848299e-04\n",
            " -4.25930084e-05 -6.90997520e-04  3.12654229e-05 -7.19744305e-04\n",
            " -1.65136895e-04 -3.02745495e-04  3.91902257e-04  9.49574693e-04\n",
            "  7.51876330e-04 -6.80392259e-04  8.66248229e-05 -1.77446957e-04\n",
            " -9.67406901e-04 -6.26437715e-04  7.27992214e-04  2.01294475e-04\n",
            "  6.95611408e-04  4.91143692e-06 -1.78243106e-04  5.81165194e-04\n",
            " -1.33150417e-04  1.16144503e-04 -9.74217372e-04  2.71537690e-04\n",
            "  4.67598526e-04 -4.55033209e-04  1.34729184e-04  4.61543183e-04\n",
            "  5.27614320e-04 -2.34945881e-04  7.47724262e-04 -7.66202749e-04\n",
            "  9.20733844e-04  8.63283713e-05 -2.93112331e-04  2.20866263e-04\n",
            " -5.82610432e-04 -1.40595381e-04  2.09686186e-04  8.23457725e-04\n",
            " -2.77019863e-04  6.10819086e-04  8.27209675e-04  2.86364084e-04\n",
            "  9.12189658e-04  3.56006058e-04 -3.43518477e-04 -3.37181526e-04\n",
            "  3.08334893e-05  6.80552155e-04 -3.92445800e-04  9.29761736e-04]\n"
          ],
          "name": "stdout"
        }
      ]
    },
    {
      "cell_type": "code",
      "metadata": {
        "colab": {
          "background_save": true
        },
        "id": "HnGQSl1hySTc",
        "outputId": "80d3f2fd-35b8-490a-bfe9-0bd53988d973"
      },
      "source": [
        "x=np.array(x)\n",
        "print(x.shape)"
      ],
      "execution_count": null,
      "outputs": [
        {
          "output_type": "stream",
          "text": [
            "(14158, 500)\n"
          ],
          "name": "stdout"
        }
      ]
    },
    {
      "cell_type": "code",
      "metadata": {
        "colab": {
          "background_save": true
        },
        "id": "RCR0FxO6xcuv",
        "outputId": "984cbf1c-6507-4195-b089-b0ffccd50f0b"
      },
      "source": [
        "print(model.docvecs[0])\n",
        "print(x[0])"
      ],
      "execution_count": null,
      "outputs": [
        {
          "output_type": "stream",
          "text": [
            "[-1.77043919e-02 -3.98352416e-03  3.32571822e-03  1.90945342e-02\n",
            "  2.76227966e-02  1.08501280e-03 -1.76655408e-02  9.14620608e-03\n",
            " -3.39113995e-02 -3.89465922e-03  1.14468625e-02 -9.73985437e-03\n",
            " -1.85580514e-02  3.93938087e-02 -3.62894051e-02  1.55434916e-02\n",
            "  1.45376977e-02 -1.15870815e-02  2.67695170e-02  3.50141786e-02\n",
            " -8.49125069e-03 -5.35152666e-03 -3.07664066e-03  2.27094386e-02\n",
            "  1.37876682e-02  2.20297985e-02 -9.70258005e-03  1.80349629e-02\n",
            " -6.63314713e-03 -2.09383853e-02  3.88711691e-03 -1.17473565e-02\n",
            " -3.10280477e-03  1.37094250e-02  4.92659956e-03 -5.37831523e-03\n",
            "  7.67016551e-03 -1.02280383e-03 -1.44093651e-02  2.04020832e-02\n",
            "  3.52594703e-02  1.59889627e-02 -6.89812377e-03 -1.50766037e-02\n",
            " -5.13310428e-04 -2.23603174e-02  5.39254351e-03 -1.24264928e-02\n",
            " -1.54797481e-02 -2.81274654e-02 -1.20972609e-02  1.14014363e-02\n",
            "  2.98199113e-02 -7.33224163e-03 -4.05118801e-03 -7.69557478e-03\n",
            "  1.65393297e-02 -3.52382706e-03  1.35981254e-02  9.55768023e-03\n",
            "  1.30503951e-02  1.63965169e-02  1.32494764e-02 -2.24510655e-02\n",
            "  8.45576171e-03  1.18302107e-02  2.86295079e-03 -2.00112499e-02\n",
            " -2.26464383e-02 -3.24959159e-02 -3.32708359e-02 -1.52701857e-02\n",
            " -1.96869951e-02 -8.45726859e-03 -3.46818231e-02  9.68023110e-03\n",
            "  3.48918848e-02  7.79785030e-03 -1.07933842e-02  2.41083410e-02\n",
            " -6.64224522e-03  1.52307935e-02  3.36391404e-02  1.25822416e-02\n",
            " -7.98770692e-03  5.06408811e-02  4.07053251e-03 -1.97431259e-02\n",
            " -3.97124477e-02 -1.32219801e-02  2.11033579e-02 -2.14437526e-02\n",
            " -1.68834776e-02 -3.05558060e-04  1.27589293e-02  1.75745564e-03\n",
            "  7.38704531e-03 -3.93876322e-02 -9.38356388e-03 -3.91194113e-02\n",
            " -5.19355200e-03 -1.93595663e-02 -2.66434588e-02  7.55489804e-03\n",
            " -1.16218999e-02  2.54352391e-02  1.75503790e-02 -6.48984313e-03\n",
            "  9.03056655e-03  7.15232035e-03  1.06111364e-02  1.63513725e-03\n",
            "  6.29406329e-03 -6.57512248e-03 -2.67427303e-02  7.45788403e-03\n",
            " -9.48851462e-03 -2.12059803e-02  6.11773692e-03 -1.12732658e-02\n",
            " -1.92840137e-02  5.09751542e-03  1.57048479e-02 -4.55207052e-03\n",
            "  2.94056535e-02  2.19047591e-02  9.07070562e-03 -6.40030298e-03\n",
            " -1.63172651e-02  3.80648375e-02 -4.19367524e-03 -1.24987653e-02\n",
            " -4.17081499e-03 -3.15331966e-02  1.89002547e-02  2.43380554e-02\n",
            "  1.76569540e-02  5.12870252e-02 -2.13995855e-02  1.55497082e-02\n",
            " -1.52096394e-02 -3.70739363e-02  1.16162095e-02  2.69397721e-02\n",
            " -1.09751346e-02 -2.85951290e-02  2.63401605e-02 -1.96454227e-02\n",
            "  1.37252901e-02  1.28366863e-02 -1.98174436e-02  4.29979336e-05\n",
            " -5.54608181e-04  2.82417480e-02 -1.86665226e-02  4.92670457e-04\n",
            "  2.10092682e-02  2.96185967e-02 -9.79339983e-03  8.69996659e-03\n",
            " -4.52931086e-03 -2.66496968e-02  7.32588582e-03  9.58415121e-03\n",
            "  1.00567481e-02  1.75655019e-02 -1.06777698e-02  7.25745084e-03\n",
            "  4.46254201e-03 -2.75223907e-02 -2.36383229e-02  1.12943891e-02\n",
            " -1.99000333e-02 -5.80943190e-03  2.97804158e-02  2.80051120e-03\n",
            " -7.87808211e-04 -2.33057514e-02 -1.98761337e-02  6.26260368e-03\n",
            " -4.22069244e-02  1.03685483e-02 -2.25771195e-03  5.08856960e-03\n",
            "  6.27114438e-03 -1.14676070e-04  2.01421529e-02 -2.83961687e-02\n",
            "  1.45251881e-02 -1.36427488e-03  4.32687951e-03  5.85564924e-03\n",
            " -9.28139593e-03 -6.43854495e-03 -5.56170475e-03 -4.76097129e-03\n",
            "  8.57397076e-03 -1.41718565e-02 -6.42098254e-03  4.55120532e-03\n",
            "  9.47692432e-03  4.76687634e-03  3.68164876e-03  1.31894415e-02\n",
            " -1.08863274e-02  1.96469645e-03 -1.20709594e-02  8.26795213e-03\n",
            " -6.17851596e-03  5.64349641e-04  1.40462816e-02 -1.62604265e-02\n",
            " -1.10085718e-02 -1.88240334e-02 -1.47708412e-02  9.43815336e-04\n",
            " -1.00446502e-02 -1.67109743e-02 -3.05113452e-03 -5.99181140e-03\n",
            " -3.88468988e-03 -1.68559141e-02 -1.88054405e-02 -1.71878655e-02\n",
            "  6.67044241e-03  3.32209864e-04 -6.21933118e-03 -4.42670565e-03\n",
            " -3.92083358e-03 -1.02418559e-02  7.63760274e-03  6.41603209e-03\n",
            " -7.20424810e-03 -2.61568720e-03 -6.29311660e-03 -1.15134129e-02\n",
            " -1.33779598e-02  1.15224328e-02  5.49310958e-03  8.08898732e-03\n",
            "  3.14298831e-03  4.99993656e-03  1.36577254e-02 -1.99641269e-02\n",
            " -1.00569669e-02  5.46595780e-03 -9.30941850e-03 -1.80393253e-02\n",
            "  1.36431511e-02  1.49392162e-03 -1.32232811e-02 -1.90365613e-02\n",
            " -9.88726970e-03  1.03862286e-02 -3.83561268e-03 -4.23771143e-03\n",
            "  4.13355464e-03  1.69923026e-02 -1.69765716e-03  9.26578976e-03\n",
            " -8.46826658e-03 -4.43033781e-03  7.77996425e-03  6.27443194e-03\n",
            "  1.47001806e-03 -1.15934070e-02  3.13722412e-03 -2.26377021e-03\n",
            " -3.91013362e-02  3.55569832e-03 -6.51220139e-03 -1.02780042e-02\n",
            "  7.70865986e-03  1.07101875e-03 -9.64929350e-03  4.83322237e-03\n",
            "  2.55134553e-02  4.45525348e-03  1.19079612e-02  1.00492104e-03\n",
            " -1.46609824e-02  5.15773799e-03 -1.24184564e-02  7.83429388e-03\n",
            " -1.37298927e-02 -3.64392325e-02  1.99822919e-03 -5.12167998e-03\n",
            " -3.90035450e-03  2.39856895e-02 -1.40724359e-02 -9.43003688e-03\n",
            "  6.63785869e-03  1.50396721e-02 -1.62420794e-02 -6.97502773e-03\n",
            " -1.11435284e-03  3.68212955e-03  8.56643543e-03 -6.97454903e-03\n",
            " -6.52403152e-03 -6.54458115e-03  1.76911745e-02 -5.57550648e-03\n",
            " -4.03496400e-02  1.29558546e-02 -8.03544931e-03 -1.00095766e-02\n",
            " -1.46337049e-02 -3.13590327e-03  2.27486365e-04  8.49664211e-03\n",
            "  5.89370262e-03 -2.63701961e-03 -1.81017946e-02 -1.93982553e-02\n",
            "  2.92639388e-03  1.01932557e-03  2.04866473e-03 -3.02027706e-02\n",
            " -1.17026074e-02  8.96932906e-04  1.46205202e-02 -2.80549787e-02\n",
            "  7.62389181e-03 -3.78394919e-03 -1.54659143e-02 -7.75710819e-03\n",
            " -1.61662661e-02  4.19419669e-02 -2.18051877e-02 -2.80215833e-02\n",
            " -2.30704201e-03 -2.76263654e-02 -1.61067601e-02 -2.57252692e-03\n",
            " -1.33972028e-02  4.29544225e-03 -7.62721384e-03  2.50408542e-03\n",
            "  1.76258776e-02  2.64659699e-04  1.42206857e-03 -2.67132930e-03\n",
            " -4.13356684e-02  1.19862789e-02  1.54496804e-02  2.77283099e-02\n",
            "  5.27631398e-03  2.45110597e-02  1.23220561e-02  2.14880202e-02\n",
            "  1.48386406e-02  2.03740615e-02 -1.25747612e-02 -1.19712055e-02\n",
            " -1.50322439e-02  1.53992539e-02  2.07148585e-02  4.45167907e-03\n",
            " -1.06239878e-02 -2.52634492e-02 -8.49819183e-03  6.60400279e-03\n",
            "  1.21255843e-02 -6.08112384e-03  3.34207225e-03  1.37684941e-02\n",
            " -1.04734423e-02 -1.65456701e-02 -3.11194714e-02  7.04719033e-03\n",
            " -4.08066204e-03  1.61792934e-02 -1.07177608e-02  1.22221429e-02\n",
            " -3.46049061e-03 -1.84758138e-02  1.15348054e-02  2.14649714e-03\n",
            "  3.10695227e-02 -1.32823037e-02  5.93731459e-03  4.01281100e-03\n",
            "  1.28648616e-02 -2.23697210e-03  1.44848670e-03  3.71208345e-03\n",
            " -2.86550773e-03 -3.08029051e-03  3.28649301e-03  1.53993815e-02\n",
            " -4.04182263e-03  9.04077571e-03  4.54597780e-03  2.40481626e-02\n",
            " -4.86981636e-03 -2.97126803e-03  1.27602136e-02 -4.97245602e-03\n",
            "  1.33782513e-02  8.46237037e-03  1.12060038e-02 -8.87584058e-04\n",
            " -1.82949901e-02  6.63701491e-03 -1.67296324e-02  1.06941978e-03\n",
            "  2.74815969e-02  2.90025142e-03 -3.05653573e-03  1.14315012e-02\n",
            "  1.40954796e-02  6.04958879e-03  2.26428881e-02  8.66227411e-03\n",
            " -8.98743887e-03 -2.04199776e-02 -1.14172716e-02 -2.77905036e-02\n",
            "  2.15600859e-02  2.99494937e-02 -2.86868401e-03  1.62980910e-02\n",
            "  7.50370556e-03 -5.26087452e-03  2.96994811e-03  6.22039055e-03\n",
            "  3.30440176e-04  1.59496032e-02 -4.29241220e-03  7.49185588e-03\n",
            "  1.60319277e-03 -9.81032755e-03  6.63896045e-03 -4.84772213e-03\n",
            " -1.07563436e-02 -5.75664872e-03  2.61365846e-02  3.40088620e-03\n",
            " -7.24910700e-04  4.97825723e-03 -6.31525740e-03 -1.30030522e-02\n",
            " -1.69433951e-02 -1.30640110e-03  1.77389253e-02 -1.87877496e-03\n",
            "  3.10607650e-03 -7.86855351e-03  1.59241650e-02  6.98755588e-03\n",
            " -6.88069500e-03  1.25280311e-02  2.69659031e-02 -3.01035047e-02\n",
            "  5.65656740e-03 -2.33427668e-03  2.14623045e-02 -6.94829412e-03\n",
            " -1.31895626e-02  3.67568918e-02  1.29526341e-03  1.01300385e-02\n",
            " -9.21013881e-04  2.53813551e-03 -9.98783577e-03 -2.65387874e-02\n",
            " -1.99103495e-03 -2.62737572e-02 -5.30077051e-03  1.61641166e-02\n",
            " -1.32590570e-02 -3.12639587e-03 -1.15162209e-02  1.37466444e-02\n",
            "  1.85559820e-02 -5.08737471e-03  1.68031603e-02 -4.02254146e-03\n",
            " -2.24974798e-03  3.05625927e-02 -3.60344350e-02  6.39931345e-03\n",
            "  2.59508621e-02  2.36756541e-03 -3.46071385e-02  2.08557118e-03\n",
            " -1.86803360e-02  9.74433310e-03 -2.37703938e-02 -9.99919698e-03\n",
            " -3.45424116e-02  9.56955657e-04  4.49506892e-03 -1.69604588e-02\n",
            " -5.23894839e-02 -1.65294844e-03  3.18884179e-02 -2.32970668e-03]\n",
            "[-1.77043919e-02 -3.98352416e-03  3.32571822e-03  1.90945342e-02\n",
            "  2.76227966e-02  1.08501280e-03 -1.76655408e-02  9.14620608e-03\n",
            " -3.39113995e-02 -3.89465922e-03  1.14468625e-02 -9.73985437e-03\n",
            " -1.85580514e-02  3.93938087e-02 -3.62894051e-02  1.55434916e-02\n",
            "  1.45376977e-02 -1.15870815e-02  2.67695170e-02  3.50141786e-02\n",
            " -8.49125069e-03 -5.35152666e-03 -3.07664066e-03  2.27094386e-02\n",
            "  1.37876682e-02  2.20297985e-02 -9.70258005e-03  1.80349629e-02\n",
            " -6.63314713e-03 -2.09383853e-02  3.88711691e-03 -1.17473565e-02\n",
            " -3.10280477e-03  1.37094250e-02  4.92659956e-03 -5.37831523e-03\n",
            "  7.67016551e-03 -1.02280383e-03 -1.44093651e-02  2.04020832e-02\n",
            "  3.52594703e-02  1.59889627e-02 -6.89812377e-03 -1.50766037e-02\n",
            " -5.13310428e-04 -2.23603174e-02  5.39254351e-03 -1.24264928e-02\n",
            " -1.54797481e-02 -2.81274654e-02 -1.20972609e-02  1.14014363e-02\n",
            "  2.98199113e-02 -7.33224163e-03 -4.05118801e-03 -7.69557478e-03\n",
            "  1.65393297e-02 -3.52382706e-03  1.35981254e-02  9.55768023e-03\n",
            "  1.30503951e-02  1.63965169e-02  1.32494764e-02 -2.24510655e-02\n",
            "  8.45576171e-03  1.18302107e-02  2.86295079e-03 -2.00112499e-02\n",
            " -2.26464383e-02 -3.24959159e-02 -3.32708359e-02 -1.52701857e-02\n",
            " -1.96869951e-02 -8.45726859e-03 -3.46818231e-02  9.68023110e-03\n",
            "  3.48918848e-02  7.79785030e-03 -1.07933842e-02  2.41083410e-02\n",
            " -6.64224522e-03  1.52307935e-02  3.36391404e-02  1.25822416e-02\n",
            " -7.98770692e-03  5.06408811e-02  4.07053251e-03 -1.97431259e-02\n",
            " -3.97124477e-02 -1.32219801e-02  2.11033579e-02 -2.14437526e-02\n",
            " -1.68834776e-02 -3.05558060e-04  1.27589293e-02  1.75745564e-03\n",
            "  7.38704531e-03 -3.93876322e-02 -9.38356388e-03 -3.91194113e-02\n",
            " -5.19355200e-03 -1.93595663e-02 -2.66434588e-02  7.55489804e-03\n",
            " -1.16218999e-02  2.54352391e-02  1.75503790e-02 -6.48984313e-03\n",
            "  9.03056655e-03  7.15232035e-03  1.06111364e-02  1.63513725e-03\n",
            "  6.29406329e-03 -6.57512248e-03 -2.67427303e-02  7.45788403e-03\n",
            " -9.48851462e-03 -2.12059803e-02  6.11773692e-03 -1.12732658e-02\n",
            " -1.92840137e-02  5.09751542e-03  1.57048479e-02 -4.55207052e-03\n",
            "  2.94056535e-02  2.19047591e-02  9.07070562e-03 -6.40030298e-03\n",
            " -1.63172651e-02  3.80648375e-02 -4.19367524e-03 -1.24987653e-02\n",
            " -4.17081499e-03 -3.15331966e-02  1.89002547e-02  2.43380554e-02\n",
            "  1.76569540e-02  5.12870252e-02 -2.13995855e-02  1.55497082e-02\n",
            " -1.52096394e-02 -3.70739363e-02  1.16162095e-02  2.69397721e-02\n",
            " -1.09751346e-02 -2.85951290e-02  2.63401605e-02 -1.96454227e-02\n",
            "  1.37252901e-02  1.28366863e-02 -1.98174436e-02  4.29979336e-05\n",
            " -5.54608181e-04  2.82417480e-02 -1.86665226e-02  4.92670457e-04\n",
            "  2.10092682e-02  2.96185967e-02 -9.79339983e-03  8.69996659e-03\n",
            " -4.52931086e-03 -2.66496968e-02  7.32588582e-03  9.58415121e-03\n",
            "  1.00567481e-02  1.75655019e-02 -1.06777698e-02  7.25745084e-03\n",
            "  4.46254201e-03 -2.75223907e-02 -2.36383229e-02  1.12943891e-02\n",
            " -1.99000333e-02 -5.80943190e-03  2.97804158e-02  2.80051120e-03\n",
            " -7.87808211e-04 -2.33057514e-02 -1.98761337e-02  6.26260368e-03\n",
            " -4.22069244e-02  1.03685483e-02 -2.25771195e-03  5.08856960e-03\n",
            "  6.27114438e-03 -1.14676070e-04  2.01421529e-02 -2.83961687e-02\n",
            "  1.45251881e-02 -1.36427488e-03  4.32687951e-03  5.85564924e-03\n",
            " -9.28139593e-03 -6.43854495e-03 -5.56170475e-03 -4.76097129e-03\n",
            "  8.57397076e-03 -1.41718565e-02 -6.42098254e-03  4.55120532e-03\n",
            "  9.47692432e-03  4.76687634e-03  3.68164876e-03  1.31894415e-02\n",
            " -1.08863274e-02  1.96469645e-03 -1.20709594e-02  8.26795213e-03\n",
            " -6.17851596e-03  5.64349641e-04  1.40462816e-02 -1.62604265e-02\n",
            " -1.10085718e-02 -1.88240334e-02 -1.47708412e-02  9.43815336e-04\n",
            " -1.00446502e-02 -1.67109743e-02 -3.05113452e-03 -5.99181140e-03\n",
            " -3.88468988e-03 -1.68559141e-02 -1.88054405e-02 -1.71878655e-02\n",
            "  6.67044241e-03  3.32209864e-04 -6.21933118e-03 -4.42670565e-03\n",
            " -3.92083358e-03 -1.02418559e-02  7.63760274e-03  6.41603209e-03\n",
            " -7.20424810e-03 -2.61568720e-03 -6.29311660e-03 -1.15134129e-02\n",
            " -1.33779598e-02  1.15224328e-02  5.49310958e-03  8.08898732e-03\n",
            "  3.14298831e-03  4.99993656e-03  1.36577254e-02 -1.99641269e-02\n",
            " -1.00569669e-02  5.46595780e-03 -9.30941850e-03 -1.80393253e-02\n",
            "  1.36431511e-02  1.49392162e-03 -1.32232811e-02 -1.90365613e-02\n",
            " -9.88726970e-03  1.03862286e-02 -3.83561268e-03 -4.23771143e-03\n",
            "  4.13355464e-03  1.69923026e-02 -1.69765716e-03  9.26578976e-03\n",
            " -8.46826658e-03 -4.43033781e-03  7.77996425e-03  6.27443194e-03\n",
            "  1.47001806e-03 -1.15934070e-02  3.13722412e-03 -2.26377021e-03\n",
            " -3.91013362e-02  3.55569832e-03 -6.51220139e-03 -1.02780042e-02\n",
            "  7.70865986e-03  1.07101875e-03 -9.64929350e-03  4.83322237e-03\n",
            "  2.55134553e-02  4.45525348e-03  1.19079612e-02  1.00492104e-03\n",
            " -1.46609824e-02  5.15773799e-03 -1.24184564e-02  7.83429388e-03\n",
            " -1.37298927e-02 -3.64392325e-02  1.99822919e-03 -5.12167998e-03\n",
            " -3.90035450e-03  2.39856895e-02 -1.40724359e-02 -9.43003688e-03\n",
            "  6.63785869e-03  1.50396721e-02 -1.62420794e-02 -6.97502773e-03\n",
            " -1.11435284e-03  3.68212955e-03  8.56643543e-03 -6.97454903e-03\n",
            " -6.52403152e-03 -6.54458115e-03  1.76911745e-02 -5.57550648e-03\n",
            " -4.03496400e-02  1.29558546e-02 -8.03544931e-03 -1.00095766e-02\n",
            " -1.46337049e-02 -3.13590327e-03  2.27486365e-04  8.49664211e-03\n",
            "  5.89370262e-03 -2.63701961e-03 -1.81017946e-02 -1.93982553e-02\n",
            "  2.92639388e-03  1.01932557e-03  2.04866473e-03 -3.02027706e-02\n",
            " -1.17026074e-02  8.96932906e-04  1.46205202e-02 -2.80549787e-02\n",
            "  7.62389181e-03 -3.78394919e-03 -1.54659143e-02 -7.75710819e-03\n",
            " -1.61662661e-02  4.19419669e-02 -2.18051877e-02 -2.80215833e-02\n",
            " -2.30704201e-03 -2.76263654e-02 -1.61067601e-02 -2.57252692e-03\n",
            " -1.33972028e-02  4.29544225e-03 -7.62721384e-03  2.50408542e-03\n",
            "  1.76258776e-02  2.64659699e-04  1.42206857e-03 -2.67132930e-03\n",
            " -4.13356684e-02  1.19862789e-02  1.54496804e-02  2.77283099e-02\n",
            "  5.27631398e-03  2.45110597e-02  1.23220561e-02  2.14880202e-02\n",
            "  1.48386406e-02  2.03740615e-02 -1.25747612e-02 -1.19712055e-02\n",
            " -1.50322439e-02  1.53992539e-02  2.07148585e-02  4.45167907e-03\n",
            " -1.06239878e-02 -2.52634492e-02 -8.49819183e-03  6.60400279e-03\n",
            "  1.21255843e-02 -6.08112384e-03  3.34207225e-03  1.37684941e-02\n",
            " -1.04734423e-02 -1.65456701e-02 -3.11194714e-02  7.04719033e-03\n",
            " -4.08066204e-03  1.61792934e-02 -1.07177608e-02  1.22221429e-02\n",
            " -3.46049061e-03 -1.84758138e-02  1.15348054e-02  2.14649714e-03\n",
            "  3.10695227e-02 -1.32823037e-02  5.93731459e-03  4.01281100e-03\n",
            "  1.28648616e-02 -2.23697210e-03  1.44848670e-03  3.71208345e-03\n",
            " -2.86550773e-03 -3.08029051e-03  3.28649301e-03  1.53993815e-02\n",
            " -4.04182263e-03  9.04077571e-03  4.54597780e-03  2.40481626e-02\n",
            " -4.86981636e-03 -2.97126803e-03  1.27602136e-02 -4.97245602e-03\n",
            "  1.33782513e-02  8.46237037e-03  1.12060038e-02 -8.87584058e-04\n",
            " -1.82949901e-02  6.63701491e-03 -1.67296324e-02  1.06941978e-03\n",
            "  2.74815969e-02  2.90025142e-03 -3.05653573e-03  1.14315012e-02\n",
            "  1.40954796e-02  6.04958879e-03  2.26428881e-02  8.66227411e-03\n",
            " -8.98743887e-03 -2.04199776e-02 -1.14172716e-02 -2.77905036e-02\n",
            "  2.15600859e-02  2.99494937e-02 -2.86868401e-03  1.62980910e-02\n",
            "  7.50370556e-03 -5.26087452e-03  2.96994811e-03  6.22039055e-03\n",
            "  3.30440176e-04  1.59496032e-02 -4.29241220e-03  7.49185588e-03\n",
            "  1.60319277e-03 -9.81032755e-03  6.63896045e-03 -4.84772213e-03\n",
            " -1.07563436e-02 -5.75664872e-03  2.61365846e-02  3.40088620e-03\n",
            " -7.24910700e-04  4.97825723e-03 -6.31525740e-03 -1.30030522e-02\n",
            " -1.69433951e-02 -1.30640110e-03  1.77389253e-02 -1.87877496e-03\n",
            "  3.10607650e-03 -7.86855351e-03  1.59241650e-02  6.98755588e-03\n",
            " -6.88069500e-03  1.25280311e-02  2.69659031e-02 -3.01035047e-02\n",
            "  5.65656740e-03 -2.33427668e-03  2.14623045e-02 -6.94829412e-03\n",
            " -1.31895626e-02  3.67568918e-02  1.29526341e-03  1.01300385e-02\n",
            " -9.21013881e-04  2.53813551e-03 -9.98783577e-03 -2.65387874e-02\n",
            " -1.99103495e-03 -2.62737572e-02 -5.30077051e-03  1.61641166e-02\n",
            " -1.32590570e-02 -3.12639587e-03 -1.15162209e-02  1.37466444e-02\n",
            "  1.85559820e-02 -5.08737471e-03  1.68031603e-02 -4.02254146e-03\n",
            " -2.24974798e-03  3.05625927e-02 -3.60344350e-02  6.39931345e-03\n",
            "  2.59508621e-02  2.36756541e-03 -3.46071385e-02  2.08557118e-03\n",
            " -1.86803360e-02  9.74433310e-03 -2.37703938e-02 -9.99919698e-03\n",
            " -3.45424116e-02  9.56955657e-04  4.49506892e-03 -1.69604588e-02\n",
            " -5.23894839e-02 -1.65294844e-03  3.18884179e-02 -2.32970668e-03]\n"
          ],
          "name": "stdout"
        }
      ]
    },
    {
      "cell_type": "code",
      "metadata": {
        "colab": {
          "background_save": true
        },
        "id": "19nQB7vR0kjP"
      },
      "source": [
        "#print(len(x))"
      ],
      "execution_count": null,
      "outputs": []
    },
    {
      "cell_type": "code",
      "metadata": {
        "colab": {
          "background_save": true
        },
        "id": "A99SsMuT2AR0",
        "outputId": "7868e96d-65bd-490a-cf75-ff94dc155ad5"
      },
      "source": [
        "print(type(x))"
      ],
      "execution_count": null,
      "outputs": [
        {
          "output_type": "stream",
          "text": [
            "<class 'numpy.ndarray'>\n"
          ],
          "name": "stdout"
        }
      ]
    },
    {
      "cell_type": "code",
      "metadata": {
        "id": "V9_pA9mJdjUc"
      },
      "source": [
        "final_heading_vector=np.array(x[0:4968])\n"
      ],
      "execution_count": null,
      "outputs": []
    },
    {
      "cell_type": "code",
      "metadata": {
        "id": "TJ4dSPfLy3eZ"
      },
      "source": [
        "a=9936\n",
        "\n",
        "final_body_vector=np.array(x[4968:a])\n",
        "#  \n",
        "# del final_body_vector\n"
      ],
      "execution_count": null,
      "outputs": []
    },
    {
      "cell_type": "code",
      "metadata": {
        "colab": {
          "background_save": true
        },
        "id": "ans4N8Jf2SoW",
        "outputId": "47a0ef82-1122-4f79-a237-cd0bd27b2437"
      },
      "source": [
        "print(final_body_vector.shape)"
      ],
      "execution_count": null,
      "outputs": [
        {
          "output_type": "stream",
          "text": [
            "(4968, 500)\n"
          ],
          "name": "stdout"
        }
      ]
    },
    {
      "cell_type": "code",
      "metadata": {
        "id": "Ic2GB8awy6BP"
      },
      "source": [
        "validation_heading_vector=np.array(x[a:a+705])\n",
        "#joblib.dump(validation_heading_vector,  'validation_heading_vector.pkl')\n",
        "# del validation_heading_vector\n"
      ],
      "execution_count": null,
      "outputs": []
    },
    {
      "cell_type": "code",
      "metadata": {
        "colab": {
          "background_save": true
        },
        "id": "lz-v60JI2a4M",
        "outputId": "5e2288d7-6d82-4698-ba9b-79a78afbab89"
      },
      "source": [
        "print(validation_heading_vector.shape)"
      ],
      "execution_count": null,
      "outputs": [
        {
          "output_type": "stream",
          "text": [
            "(705, 500)\n"
          ],
          "name": "stdout"
        }
      ]
    },
    {
      "cell_type": "code",
      "metadata": {
        "id": "uTIX7Teoy7iN"
      },
      "source": [
        "validation_body_vector=np.array(x[a+705:a+1410])\n",
        "#joblib.dump(validation_body_vector,  'validation_body_vector.pkl')\n",
        "# del validation_body_vector\n"
      ],
      "execution_count": null,
      "outputs": []
    },
    {
      "cell_type": "code",
      "metadata": {
        "id": "X_xt2sdny9n5"
      },
      "source": [
        "test_heading_vector=np.array(x[a+1410:a+2816])\n",
        "#joblib.dump(test_heading_vector,  'test_heading_vector.pkl')\n",
        "# del test_heading_vector\n"
      ],
      "execution_count": null,
      "outputs": []
    },
    {
      "cell_type": "code",
      "metadata": {
        "colab": {
          "background_save": true
        },
        "id": "_jqydpEO2hP6",
        "outputId": "007101c8-7f22-45d6-bc9c-d944081aeaf1"
      },
      "source": [
        "print(test_heading_vector.shape)"
      ],
      "execution_count": null,
      "outputs": [
        {
          "output_type": "stream",
          "text": [
            "(1406, 500)\n"
          ],
          "name": "stdout"
        }
      ]
    },
    {
      "cell_type": "code",
      "metadata": {
        "id": "FIy5yLUjy9Zc"
      },
      "source": [
        "test_body_vector=np.array(x[a+2816:])\n",
        "#joblib.dump(test_body_vector, 'test_body_vector.pkl')\n",
        "# del test_body_vector"
      ],
      "execution_count": null,
      "outputs": []
    },
    {
      "cell_type": "code",
      "metadata": {
        "colab": {
          "background_save": true
        },
        "id": "lUEN5ijV2kEP",
        "outputId": "2c11d89a-ebc3-4ba1-caaa-fa894910663b"
      },
      "source": [
        "print(test_body_vector.shape)"
      ],
      "execution_count": null,
      "outputs": [
        {
          "output_type": "stream",
          "text": [
            "(1406, 500)\n"
          ],
          "name": "stdout"
        }
      ]
    },
    {
      "cell_type": "code",
      "metadata": {
        "colab": {
          "background_save": true
        },
        "id": "aCoY_a_O0hSA",
        "outputId": "c00d700d-c1b0-4b8e-cd04-88e045bcc029"
      },
      "source": [
        "print(validation_heading_vector.shape)\n",
        "print(validation_body_vector.shape)\n",
        "print(y_valid.shape)\n"
      ],
      "execution_count": null,
      "outputs": [
        {
          "output_type": "stream",
          "text": [
            "(705, 500)\n",
            "(705, 500)\n",
            "(2824,)\n"
          ],
          "name": "stdout"
        }
      ]
    },
    {
      "cell_type": "markdown",
      "metadata": {
        "id": "ww6EJwz-cWPR"
      },
      "source": [
        "# for testing data"
      ]
    },
    {
      "cell_type": "code",
      "metadata": {
        "colab": {
          "background_save": true
        },
        "id": "8d4xokOvb_g4"
      },
      "source": [
        "# print(len(final_heading_vector))\n",
        "# print(len(final_body_vector))\n",
        "# print(len(validation_heading_vector))\n",
        "# print(len(validation_body_vector))\n",
        "# print(len(test_heading_vector))\n",
        "# print(len(test_body_vector))\n",
        "\n"
      ],
      "execution_count": null,
      "outputs": []
    },
    {
      "cell_type": "code",
      "metadata": {
        "id": "hH-CSyPcXZrF"
      },
      "source": [
        "y_actual=y_actual[:4968].astype(float)\n",
        "y_valid=y_valid[:705].astype(float)\n"
      ],
      "execution_count": null,
      "outputs": []
    },
    {
      "cell_type": "code",
      "metadata": {
        "id": "R14KGhNeYZrX"
      },
      "source": [
        "y_actual=np.array(y_actual)\n",
        "y_valid=np.array(y_valid)"
      ],
      "execution_count": null,
      "outputs": []
    },
    {
      "cell_type": "code",
      "metadata": {
        "colab": {
          "background_save": true
        },
        "id": "GkOcmX0IrSP1"
      },
      "source": [
        "# joblib.dump(y_actual,  'y_actual.pkl')\n",
        "# #del y_actual\n",
        "\n",
        "# joblib.dump(y_valid,  'y_valid.pkl')\n",
        "# #del y_valid"
      ],
      "execution_count": null,
      "outputs": []
    },
    {
      "cell_type": "markdown",
      "metadata": {
        "id": "8nZ3AlaAx4ow"
      },
      "source": [
        "## MODEL"
      ]
    },
    {
      "cell_type": "code",
      "metadata": {
        "colab": {
          "base_uri": "https://localhost:8080/"
        },
        "id": "7qgIfpo10CSp",
        "outputId": "5a93d578-1a96-4dd1-e239-d8bf52d8a0aa"
      },
      "source": [
        "print(final_heading_vector.shape)\n",
        "print(final_body_vector.shape)\n",
        "print(y_actual.shape)\n",
        "\n",
        "print(\"----------------------\")\n",
        "\n",
        "print(validation_heading_vector.shape)\n",
        "print(validation_body_vector.shape)\n",
        "print(y_valid.shape)\n",
        "\n",
        "print(\"----------------------\")\n",
        "\n",
        "print(test_heading_vector.shape)\n",
        "print(test_body_vector.shape)\n",
        "print(\"----------------------\")\n",
        "\n"
      ],
      "execution_count": null,
      "outputs": [
        {
          "output_type": "stream",
          "text": [
            "(4968, 500)\n",
            "(4968, 500)\n",
            "(4968,)\n",
            "----------------------\n",
            "(705, 500)\n",
            "(705, 500)\n",
            "(705,)\n",
            "----------------------\n",
            "(1406, 500)\n",
            "(1406, 500)\n",
            "----------------------\n"
          ],
          "name": "stdout"
        }
      ]
    },
    {
      "cell_type": "code",
      "metadata": {
        "id": "2w77iqDBLUDh"
      },
      "source": [
        "from keras.layers import LSTM\n",
        "def create_base_network(input_shape):\n",
        "    input = Input(shape=input_shape)\n",
        "    \"\"\"\n",
        "    x = LSTM(64, activation='softmax')(input)\n",
        "    x = Dropout(0.1)(x)\n",
        "    \"\"\"\n",
        "    x = Dense(32, activation='relu')(input)\n",
        "    x = Dropout(0.1)(x)\n",
        "    x = Dense(32, activation='relu')(x)\n",
        "    x = Lambda(lambda  x: K.l2_normalize(x,axis=1))(x)\n",
        "    x = Lambda(lambda  x: K.l2_normalize(x,axis=1))(x)\n",
        "    return Model(input, x)\n",
        "\n",
        "\n",
        "def euclidean_distance(vects):\n",
        "    x, y = vects\n",
        "    sum_square = K.sum(K.square(x - y), axis=1, keepdims=True)\n",
        "    return K.sqrt(K.maximum(sum_square, K.epsilon()))\n",
        "\n",
        "def eucl_dist_output_shape(shapes):\n",
        "    shape1, shape2 = shapes\n",
        "    return (shape1[0], 1)\n",
        "\n",
        "def contrastive_loss(y_true, y_pred):\n",
        "    \n",
        "    margin = 1.0\n",
        "    sqaure_pred = K.square(y_pred)\n",
        "    margin_square = K.square(K.maximum(margin - y_pred, 0))\n",
        "    return float(K.mean(float(y_true) * float(sqaure_pred) + (1.0 - float(y_true)) * float(margin_square)))\n",
        "\n"
      ],
      "execution_count": null,
      "outputs": []
    },
    {
      "cell_type": "code",
      "metadata": {
        "id": "KAi4VFvB9DNA"
      },
      "source": [
        "from numpy import dot\n",
        "from numpy.linalg import norm\n",
        "from keras.backend import int_shape\n",
        "def cosine_sim(vects):\n",
        "  a,b=vects\n",
        "  #c=tf.constant(a)\n",
        "  ans=[]\n",
        "  s=int_shape(a)[1]\n",
        "  for i in range(s):\n",
        "    temp1=a[i]\n",
        "    temp2=b[i]\n",
        "    normalize_a = tf.nn.l2_normalize(temp1,0)        \n",
        "    normalize_b = tf.nn.l2_normalize(temp2,0)\n",
        "    cos_similarity=tf.reduce_sum(tf.multiply(normalize_a,normalize_b))\n",
        "    ans.append(cos_similarity)\n",
        "  return tf.convert_to_tensor(ans)\n",
        "  "
      ],
      "execution_count": null,
      "outputs": []
    },
    {
      "cell_type": "code",
      "metadata": {
        "id": "_v4Z8O5eoVvO"
      },
      "source": [
        "from sklearn.preprocessing import normalize\n",
        "def func(vects):\n",
        "  a,b=vects\n",
        "  t1=tf.shape(a)\n",
        "  s1=t1[0]\n",
        "  s2=t1[1]\n",
        "  a=tf.make_ndarray(a)\n",
        "  b=tf.make_ndarray(b)\n",
        "  s1=a.shape[0]\n",
        "  s2=a.shape[1]\n",
        "  ans=[]\n",
        "  print(a.shape[0],a.shape[1])\n",
        "  for i in range(s1):\n",
        "    summ=0\n",
        "    a[i]=tf.make_ndarray(a[i])\n",
        "    b[i]=tf.make_ndarray(b[i])\n",
        "    temp1=a[i]/np.linalg.norm(a[i])\n",
        "    temp2=b[i]/np.linalg.norm(b[i])\n",
        "    #print(temp1,temp2)\n",
        "    for j in range(s2):\n",
        "      #print(a[i][j],b[i][j])\n",
        "      summ+=temp1[j]*temp2[j]\n",
        "    ans.append(summ)\n",
        "  return tf.convert_to_tensor(ans)\n"
      ],
      "execution_count": null,
      "outputs": []
    },
    {
      "cell_type": "code",
      "metadata": {
        "id": "BzgaL_qZz4Wx"
      },
      "source": [
        "def accuracy(y_true, y_pred):\n",
        "    return K.mean(K.equal(y_true, K.cast(y_pred < 0.5, y_true.dtype)))"
      ],
      "execution_count": null,
      "outputs": []
    },
    {
      "cell_type": "code",
      "metadata": {
        "id": "JA_q3kFJa6-K"
      },
      "source": [
        "def compute_accuracy(y_true, y_pred):\n",
        "  pred = y_pred.ravel() < 0.0\n",
        "  return np.mean(pred == y_true)\n"
      ],
      "execution_count": null,
      "outputs": []
    },
    {
      "cell_type": "code",
      "metadata": {
        "id": "4RpizOxqMEZN",
        "colab": {
          "base_uri": "https://localhost:8080/"
        },
        "outputId": "7b35f5fb-b145-4964-bad0-0547f6629eab"
      },
      "source": [
        "import keras\n",
        "# network definition\n",
        "input_shape = final_heading_vector.shape[1]\n",
        "ipt_shape=(final_heading_vector.shape[1],1)\n",
        "base_network = create_base_network(input_shape)\n",
        "\n",
        "input_a = Input(shape=input_shape)\n",
        "input_b = Input(shape=input_shape)\n",
        "\n",
        "# because we re-use the same instance `base_network`,\n",
        "# the weights of the network\n",
        "# will be shared across the two branches\n",
        "\n",
        "processed_a = base_network(input_a)\n",
        "processed_b = base_network(input_b)\n",
        "\n",
        "distance = Lambda(cosine_sim,\n",
        "                  output_shape=eucl_dist_output_shape)([processed_a, processed_b])\n",
        "\n",
        "model = Model([input_a, input_b], distance)\n",
        "\n",
        "# train\n",
        "#rms = RMSprop()\n",
        "rms = keras.optimizers.Adam()\n",
        "#rms = SGD()\n",
        "\n",
        "model.compile(loss=contrastive_loss, optimizer=rms, metrics=[accuracy])\n",
        "# train\n",
        "fh=final_heading_vector.reshape((final_heading_vector.shape[0],final_heading_vector.shape[1],1))\n",
        "fb=final_body_vector.reshape((final_body_vector.shape[0],final_body_vector.shape[1],1))\n",
        "f1=validation_heading_vector.reshape((validation_heading_vector.shape[0],validation_heading_vector.shape[1],1))\n",
        "f2=validation_body_vector.reshape((validation_body_vector.shape[0],validation_body_vector.shape[1],1))\n",
        "y_actual=y_actual.reshape((y_actual.shape[0],1))\n",
        "y_valid=y_valid.reshape((y_valid.shape[0],1))\n",
        "history = model.fit([fh[:4928], fb[:4928]], y_actual[:4928],\n",
        "          batch_size=32,\n",
        "          epochs=5,\n",
        "          validation_data=([f1[:704],f2[:704]], y_valid[:704]))\n",
        "\n",
        "#te_acc = compute_accuracy(y_test, y_pred_tr)\n",
        "\n",
        "#print('* Accuracy on training set: %0.2f%%' % (100 * tr_acc))\n",
        "#print('* Accuracy on test set: %0.2f%%' % (100 * te_acc))\n"
      ],
      "execution_count": null,
      "outputs": [
        {
          "output_type": "stream",
          "text": [
            "Epoch 1/5\n",
            "154/154 [==============================] - 7s 10ms/step - loss: 0.2330 - accuracy: 0.6559 - val_loss: 0.2020 - val_accuracy: 0.7344\n",
            "Epoch 2/5\n",
            "154/154 [==============================] - 1s 4ms/step - loss: 0.1999 - accuracy: 0.7151 - val_loss: 0.2065 - val_accuracy: 0.7017\n",
            "Epoch 3/5\n",
            "154/154 [==============================] - 1s 4ms/step - loss: 0.1959 - accuracy: 0.7195 - val_loss: 0.2027 - val_accuracy: 0.7230\n",
            "Epoch 4/5\n",
            "154/154 [==============================] - 1s 4ms/step - loss: 0.1844 - accuracy: 0.7397 - val_loss: 0.2037 - val_accuracy: 0.7202\n",
            "Epoch 5/5\n",
            "154/154 [==============================] - 1s 4ms/step - loss: 0.1874 - accuracy: 0.7322 - val_loss: 0.2073 - val_accuracy: 0.7102\n"
          ],
          "name": "stdout"
        }
      ]
    },
    {
      "cell_type": "code",
      "metadata": {
        "colab": {
          "base_uri": "https://localhost:8080/"
        },
        "id": "m6T7X4II2-R-",
        "outputId": "7741301e-fd75-4c95-a04d-d9c022bf099a"
      },
      "source": [
        "fh.shape"
      ],
      "execution_count": null,
      "outputs": [
        {
          "output_type": "execute_result",
          "data": {
            "text/plain": [
              "(4968, 500, 1)"
            ]
          },
          "metadata": {
            "tags": []
          },
          "execution_count": 31
        }
      ]
    },
    {
      "cell_type": "code",
      "metadata": {
        "colab": {
          "base_uri": "https://localhost:8080/"
        },
        "id": "xYT3xfCC3Ce9",
        "outputId": "133b271c-ebc7-4509-ce63-ceaf574fba64"
      },
      "source": [
        "print(input_shape)"
      ],
      "execution_count": null,
      "outputs": [
        {
          "output_type": "stream",
          "text": [
            "(500,)\n"
          ],
          "name": "stdout"
        }
      ]
    },
    {
      "cell_type": "code",
      "metadata": {
        "id": "GtbRvfplBhqu",
        "colab": {
          "base_uri": "https://localhost:8080/"
        },
        "outputId": "e7c4c414-98f4-40c5-c888-015234d4c627"
      },
      "source": [
        "y_valid.shape"
      ],
      "execution_count": null,
      "outputs": [
        {
          "output_type": "execute_result",
          "data": {
            "text/plain": [
              "(705, 1)"
            ]
          },
          "metadata": {
            "tags": []
          },
          "execution_count": 25
        }
      ]
    },
    {
      "cell_type": "code",
      "metadata": {
        "id": "dcqljTWxlhLB",
        "colab": {
          "base_uri": "https://localhost:8080/"
        },
        "outputId": "fa0f7bc4-8c4e-47cc-a2e6-fd7c37f6d795"
      },
      "source": [
        "np.count_nonzero(y_valid)"
      ],
      "execution_count": null,
      "outputs": [
        {
          "output_type": "execute_result",
          "data": {
            "text/plain": [
              "524"
            ]
          },
          "metadata": {
            "tags": []
          },
          "execution_count": 26
        }
      ]
    },
    {
      "cell_type": "code",
      "metadata": {
        "id": "soS7mVkxcH4f",
        "colab": {
          "base_uri": "https://localhost:8080/"
        },
        "outputId": "fdfb0bc8-dacc-41a1-88bf-07ae35f52b61"
      },
      "source": [
        "print(validation_body_vector.shape)\n",
        "print(y_valid.shape)"
      ],
      "execution_count": null,
      "outputs": [
        {
          "output_type": "stream",
          "text": [
            "(705, 500)\n",
            "(705, 1)\n"
          ],
          "name": "stdout"
        }
      ]
    },
    {
      "cell_type": "code",
      "metadata": {
        "id": "KhamfeUhbyQS",
        "colab": {
          "base_uri": "https://localhost:8080/"
        },
        "outputId": "f7f2780a-b323-410d-cb9e-7cb96f4fbc82"
      },
      "source": [
        "y_pred = model.predict([f1[:704],f2[:704]])\n",
        "#tr_acc = compute_accuracy(y_valid, y_pred)\n",
        "print(y_pred.shape)\n",
        "print(y_pred)\n"
      ],
      "execution_count": null,
      "outputs": [
        {
          "output_type": "stream",
          "text": [
            "(704,)\n",
            "[0.7524947  0.5558719  0.67856824 0.4076063  0.78091216 0.33773738\n",
            " 0.4844525  0.15765953 0.5061254  0.37648028 0.3519172  0.379403\n",
            " 0.16965643 0.36533165 0.43413118 0.3608508  0.36660305 0.35220647\n",
            " 0.15400147 0.12205665 0.54012084 0.3315304  0.08934474 0.21897951\n",
            " 0.3750313  0.3098152  0.24186905 0.1420366  0.07894354 0.38685143\n",
            " 0.28574497 0.13824776 0.20884013 0.1494909  0.03625047 0.26822934\n",
            " 0.1462081  0.16237547 0.08649704 0.12529081 0.10070957 0.3920771\n",
            " 0.21812531 0.09450607 0.09782926 0.03309109 0.56577736 0.11187753\n",
            " 0.12710816 0.29319692 0.10574586 0.08539338 0.2818669  0.2715388\n",
            " 0.2820727  0.28401285 0.07617581 0.17015556 0.35524112 0.4709994\n",
            " 0.22394122 0.19622728 0.28873724 0.15455784 0.11667557 0.03495875\n",
            " 0.18788925 0.11077882 0.45700273 0.11711904 0.09061936 0.20596468\n",
            " 0.2280556  0.1734901  0.13509154 0.05225857 0.2512681  0.05682894\n",
            " 0.5171086  0.09821615 0.18785702 0.22058539 0.13557781 0.14169003\n",
            " 0.15682258 0.15376037 0.09224221 0.19948968 0.14483671 0.0551451\n",
            " 0.13507652 0.11831859 0.27125347 0.3138785  0.01896056 0.12228453\n",
            " 0.15361905 0.19397503 0.5192617  0.22636715 0.60131484 0.07337147\n",
            " 0.28603917 0.32920223 0.3189533  0.03018866 0.07579859 0.54880637\n",
            " 0.24525122 0.27844423 0.36267424 0.12708607 0.13521978 0.0414065\n",
            " 0.0817176  0.23802885 0.17650408 0.22686163 0.27732694 0.3776229\n",
            " 0.32777968 0.0886696  0.2441772  0.19867423 0.17220788 0.21139008\n",
            " 0.36652622 0.23192023 0.56122273 0.4542505  0.6791638  0.49391282\n",
            " 0.13809317 0.32463086 0.3324202  0.41151178 0.2024149  0.17562547\n",
            " 0.49973056 0.50970155 0.70894396 0.07223764 0.14469008 0.3805224\n",
            " 0.08163932 0.27914372 0.17062369 0.22990939 0.25861356 0.47636116\n",
            " 0.23705584 0.49419862 0.2852557  0.18147212 0.13638657 0.4182396\n",
            " 0.14263317 0.846943   0.13507216 0.14974242 0.26093507 0.45741832\n",
            " 0.5841211  0.12984286 0.4105372  0.05579599 0.33889818 0.40492588\n",
            " 0.38879126 0.22733378 0.2689879  0.4203961  0.39649016 0.13487832\n",
            " 0.05185147 0.25481293 0.13439684 0.07170807 0.1584873  0.05444034\n",
            " 0.16909131 0.43626684 0.36888427 0.07152396 0.22428386 0.09279271\n",
            " 0.2633998  0.26649955 0.08927221 0.18242443 0.2029067  0.2731235\n",
            " 0.37184334 0.15302755 0.6205707  0.06513113 0.2539776  0.22878993\n",
            " 0.10381147 0.20975173 0.16330071 0.36610255 0.12113579 0.20122382\n",
            " 0.21049753 0.2439526  0.15443142 0.15347403 0.08595788 0.07878855\n",
            " 0.05878752 0.25538442 0.10013189 0.19185825 0.18071163 0.15504797\n",
            " 0.08235188 0.15982112 0.07616188 0.37807736 0.9645558  0.10637975\n",
            " 0.18193957 0.12882705 0.24536073 0.37409258 0.30912757 0.05889438\n",
            " 0.13241476 0.18172689 0.34252098 0.20333546 0.19867025 0.49149957\n",
            " 0.21798739 0.2008933  0.35901147 0.23756993 0.13796641 0.15973201\n",
            " 0.01732164 0.26229316 0.06703303 0.1678977  0.1375566  0.16535231\n",
            " 0.04904452 0.2717697  0.13329165 0.36079258 0.06174356 0.2754832\n",
            " 0.05799232 0.33319315 0.06600654 0.10396109 0.1427988  0.4595826\n",
            " 0.40548295 0.07501891 0.16298535 0.38152325 0.10014471 0.0437372\n",
            " 0.11646307 0.2498525  0.09438528 0.40567434 0.31288746 0.08241782\n",
            " 0.23489411 0.2141678  0.23425487 0.26123545 0.09589535 0.12065233\n",
            " 0.02675603 0.27740315 0.19162783 0.19626378 0.3262416  0.09674835\n",
            " 0.10893427 0.14609945 0.28178546 0.2562868  0.20616138 0.43952364\n",
            " 0.01891529 0.18904594 0.11382253 0.11382897 0.39237413 0.25686917\n",
            " 0.31072885 0.2566588  0.27615967 0.3553502  0.33493033 0.0855111\n",
            " 0.4927607  0.3166356  0.09891777 0.66955817 0.29311538 0.18114108\n",
            " 0.14974485 0.43782213 0.31598815 0.5092138  0.39152402 0.3076632\n",
            " 0.25782663 0.15078036 0.22589627 0.11999826 0.6125846  0.44100547\n",
            " 0.41083175 0.26183075 0.23943706 0.3424554  0.25538746 0.3509315\n",
            " 0.5120018  0.7963071  0.6085242  0.5356058  0.37093014 0.21599132\n",
            " 0.44897985 0.3054949  0.75824153 0.63962746 0.05726275 0.27116835\n",
            " 0.11958689 0.40878564 0.2723967  0.28783932 0.33432657 0.10035644\n",
            " 0.3209409  0.29354864 0.16772345 0.0853065  0.43296337 0.12801333\n",
            " 0.3201936  0.29544136 0.1009756  0.18922871 0.18429692 0.30057934\n",
            " 0.12407995 0.1591973  0.2435867  0.22861803 0.17587939 0.10437788\n",
            " 0.2283901  0.09901117 0.18872951 0.54294044 0.45478043 0.25623792\n",
            " 0.20597349 0.22570889 0.5938793  0.08287263 0.5962852  0.20318381\n",
            " 0.24041843 0.53802794 0.28121123 0.17116098 0.515021   0.36140072\n",
            " 0.09554142 0.09664823 0.202692   0.09840063 0.06389266 0.22779678\n",
            " 0.3177911  0.16815259 0.2179734  0.11147289 0.34235778 0.2543009\n",
            " 0.9322895  0.13442236 0.05273231 0.18422274 0.27643973 0.04479414\n",
            " 0.13484389 0.14979064 0.06048808 0.29868978 0.14895374 0.07752581\n",
            " 0.24106278 0.33826834 0.32145497 0.11076984 0.3979426  0.10034072\n",
            " 0.38297275 0.0890551  0.22078918 0.4496221  0.07994077 0.07384104\n",
            " 0.11616569 0.10630961 0.16433059 0.1182694  0.14684516 0.233399\n",
            " 0.21752109 0.1457855  0.20177592 0.3452542  0.144879   0.1279192\n",
            " 0.07299871 0.10075831 0.35720786 0.2834433  0.28463137 0.3270834\n",
            " 0.2740917  0.15732557 0.40896177 0.06469613 0.24101603 0.06758721\n",
            " 0.22116521 0.2527922  0.15494876 0.06865613 0.10091881 0.43001172\n",
            " 0.22393692 0.1293307  0.06635144 0.25150648 0.07720876 0.04873774\n",
            " 0.21918663 0.07810542 0.07475948 0.31411308 0.40634355 0.04332481\n",
            " 0.09488089 0.49350578 0.13855623 0.16537628 0.35325128 0.20942897\n",
            " 0.16068077 0.7886129  0.5815181  0.18751901 0.3276727  0.14805931\n",
            " 0.2845336  0.34063917 0.35607675 0.0156044  0.3660562  0.07004006\n",
            " 0.12914    0.3139073  0.09221572 0.1670387  0.16480027 0.0876442\n",
            " 0.20997411 0.19696975 0.09342717 0.1411365  0.07173038 0.1508984\n",
            " 0.3107742  0.27430448 0.0946788  0.1408275  0.14476196 0.62324184\n",
            " 0.65643895 0.2525952  0.24824308 0.13862589 0.06527997 0.06133883\n",
            " 0.252512   0.06651879 0.4667595  0.09199134 0.32008725 0.18055661\n",
            " 0.12530935 0.21044643 0.18834496 0.34149802 0.15960918 0.17890869\n",
            " 0.10492659 0.1498782  0.26536918 0.24308723 0.3740609  0.16566901\n",
            " 0.11286438 0.24069476 0.06669317 0.04937126 0.622694   0.19264014\n",
            " 0.17441994 0.11241983 0.36809424 0.21790005 0.11524606 0.14014022\n",
            " 0.24629706 0.17629525 0.2661813  0.36375043 0.2929219  0.09840274\n",
            " 0.05552475 0.22532031 0.14701855 0.19656448 0.02305723 0.51467204\n",
            " 0.19167301 0.25956187 0.17682864 0.18617173 0.21534379 0.12231772\n",
            " 0.08292545 0.07479255 0.08775332 0.1634455  0.09099844 0.08474028\n",
            " 0.1295914  0.16252546 0.4075708  0.2563082  0.14508256 0.06181699\n",
            " 0.19802655 0.2480291  0.1586266  0.21744682 0.1991786  0.03851137\n",
            " 0.37142134 0.25239804 0.39154    0.33351558 0.14731692 0.1052075\n",
            " 0.12265822 0.2976045  0.2943882  0.21476562 0.2567622  0.11318137\n",
            " 0.3868235  0.26314265 0.72382873 0.10535575 0.14792874 0.16664687\n",
            " 0.21883297 0.46372294 0.12406884 0.4503069  0.32612872 0.1055753\n",
            " 0.07791933 0.26254922 0.2919367  0.52894294 0.09428573 0.20514074\n",
            " 0.33757538 0.28472203 0.10176733 0.24447265 0.05100734 0.07862016\n",
            " 0.04038752 0.23747978 0.16729845 0.23017278 0.24019538 0.24632096\n",
            " 0.07845701 0.1954356  0.35128963 0.16400859 0.0703778  0.4746751\n",
            " 0.21659403 0.07776116 0.05700013 0.07435998 0.21269596 0.13560642\n",
            " 0.06769027 0.32612053 0.23513438 0.21235296 0.17713606 0.3250901\n",
            " 0.3205487  0.3343621  0.5646935  0.36657435 0.6298857  0.29146045\n",
            " 0.00246468 0.36869156 0.3514927  0.5566617  0.31069702 0.25812435\n",
            " 0.24367467 0.1859348  0.00347157 0.43376243 0.3444975  0.20816685\n",
            " 0.29404026 0.29012248 0.2996356  0.24915858 0.11350665 0.6090986\n",
            " 0.18543585 0.8008549  0.5592538  0.3395811  0.36094165 0.12611353\n",
            " 0.73903346 0.08345108 0.30266914 0.4040638  0.06634053 0.20357946\n",
            " 0.5231502  0.16918811 0.16799596 0.19769499 0.08723623 0.08189365\n",
            " 0.16567378 0.31188357 0.16335925 0.17887715 0.31527784 0.20191342\n",
            " 0.12612307 0.18799853 0.06722677 0.33268446 0.41436478 0.44441402\n",
            " 0.13079993 0.30266136 0.07395895 0.4374669  0.2070609  0.36077812\n",
            " 0.21206437 0.12747893 0.08494257 0.04440828 0.14491026 0.47590095\n",
            " 0.34501016 0.26683986 0.15850669 0.16417632 0.2848529  0.11045791\n",
            " 0.24676153 0.39118642 0.38383287 0.184648   0.59037703 0.40515614\n",
            " 0.4832635  0.2736731 ]\n"
          ],
          "name": "stdout"
        }
      ]
    },
    {
      "cell_type": "code",
      "metadata": {
        "colab": {
          "base_uri": "https://localhost:8080/"
        },
        "id": "zvLgKY_xz5HX",
        "outputId": "de2123f7-6887-46b7-baf0-e3cead99eb5b"
      },
      "source": [
        "model.summary()"
      ],
      "execution_count": null,
      "outputs": [
        {
          "output_type": "stream",
          "text": [
            "Model: \"model_1\"\n",
            "__________________________________________________________________________________________________\n",
            "Layer (type)                    Output Shape         Param #     Connected to                     \n",
            "==================================================================================================\n",
            "input_2 (InputLayer)            [(None, 500)]        0                                            \n",
            "__________________________________________________________________________________________________\n",
            "input_3 (InputLayer)            [(None, 500)]        0                                            \n",
            "__________________________________________________________________________________________________\n",
            "model (Functional)              (None, 64)           36224       input_2[0][0]                    \n",
            "                                                                 input_3[0][0]                    \n",
            "__________________________________________________________________________________________________\n",
            "lambda_2 (Lambda)               (64,)                0           model[0][0]                      \n",
            "                                                                 model[1][0]                      \n",
            "==================================================================================================\n",
            "Total params: 36,224\n",
            "Trainable params: 36,224\n",
            "Non-trainable params: 0\n",
            "__________________________________________________________________________________________________\n"
          ],
          "name": "stdout"
        }
      ]
    },
    {
      "cell_type": "code",
      "metadata": {
        "id": "gdWMPsz6FVSV"
      },
      "source": [
        "import tensorflow.compat.v1 as tf\n",
        "tf.disable_v2_behavior()\n",
        "a = tf.placeholder(tf.float32, shape=[None], name=\"input_placeholder_a\")\n",
        "b = tf.placeholder(tf.float32, shape=[None], name=\"input_placeholder_b\")\n",
        "normalize_a = tf.nn.l2_normalize(a,0)        \n",
        "normalize_b = tf.nn.l2_normalize(b,0)\n",
        "cos_similarity=tf.reduce_sum(tf.multiply(normalize_a,normalize_b))\n",
        "sess=tf.Session()\n",
        "cos_sim=sess.run(cos_similarity,feed_dict={a:[[1],[1]],b:})\n",
        "print(cos_sim)\n"
      ],
      "execution_count": null,
      "outputs": []
    },
    {
      "cell_type": "markdown",
      "metadata": {
        "id": "rUU1fBCi21nG"
      },
      "source": [
        ""
      ]
    },
    {
      "cell_type": "code",
      "metadata": {
        "id": "MW9LapObvQ-t"
      },
      "source": [
        "ans1=func(validation_body_vector,validation_heading_vector)\n",
        "ans1=np.array(ans1)\n",
        "print(ans1)\n",
        "print(len(ans1))"
      ],
      "execution_count": null,
      "outputs": []
    },
    {
      "cell_type": "code",
      "metadata": {
        "id": "n57D78QHoxW2"
      },
      "source": [
        "ans1=func(np.array([[1,0]]),np.array([[1,1]]))\n",
        "ans1=np.array(ans1)\n",
        "print(ans1)\n",
        "print(len(ans1))"
      ],
      "execution_count": null,
      "outputs": []
    }
  ]
}